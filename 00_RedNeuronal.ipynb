{
  "nbformat": 4,
  "nbformat_minor": 0,
  "metadata": {
    "colab": {
      "provenance": [],
      "authorship_tag": "ABX9TyPL/CH2zyG3WzYtFZKAan1m",
      "include_colab_link": true
    },
    "kernelspec": {
      "name": "python3",
      "display_name": "Python 3"
    },
    "language_info": {
      "name": "python"
    }
  },
  "cells": [
    {
      "cell_type": "markdown",
      "metadata": {
        "id": "view-in-github",
        "colab_type": "text"
      },
      "source": [
        "<a href=\"https://colab.research.google.com/github/VictorLuna02012003/Redes_Neuronales/blob/main/00_RedNeuronal.ipynb\" target=\"_parent\"><img src=\"https://colab.research.google.com/assets/colab-badge.svg\" alt=\"Open In Colab\"/></a>"
      ]
    },
    {
      "cell_type": "code",
      "execution_count": 1,
      "metadata": {
        "id": "nkMk_oWyO5TR"
      },
      "outputs": [],
      "source": [
        "import tensorflow as tf  #Libreria de IA adiseñada por google\n",
        "import numpy as np #Facilita el trabajo con arreglos numericos"
      ]
    },
    {
      "cell_type": "code",
      "source": [
        "#declarar valores de entrada \n",
        "celsius = np.array([-40, -10, 0, 8, 15, 22, 38], dtype = float)\n",
        "fahrenheit = np.array([-40, 14, 32, 46, 59, 72, 100], dtype = float)"
      ],
      "metadata": {
        "id": "L1X3NV1vO9GE"
      },
      "execution_count": 2,
      "outputs": []
    },
    {
      "cell_type": "code",
      "source": [
        "#Capas\n",
        "#keras facilita el trabajo con redes neuronales (ahorra codigo)\n",
        "capa = tf.keras.layers.Dense(units=1, input_shape=[1])\n",
        "\n",
        "modelo = tf.keras.Sequential([capa])"
      ],
      "metadata": {
        "id": "cr7-jexIO_ty"
      },
      "execution_count": 3,
      "outputs": []
    },
    {
      "cell_type": "code",
      "source": [
        "#Empezar el entrenamiento\n",
        "modelo.compile(\n",
        "    #declaramos un optimizador que nos va a dar ajustes de peso y sesgo\n",
        "    optimizer = tf.keras.optimizers.Adam(0.1),\n",
        "    #calculo del error\n",
        "    loss = 'mean_squared_error'\n",
        ")"
      ],
      "metadata": {
        "id": "SjFUgxSbPDoT"
      },
      "execution_count": 4,
      "outputs": []
    },
    {
      "cell_type": "code",
      "source": [
        "print('Comenzando el entrenamiento')\n",
        "historial = modelo.fit(celsius, fahrenheit, epochs=1000, verbose=False)\n",
        "print('Modelo entrenado 😈')"
      ],
      "metadata": {
        "colab": {
          "base_uri": "https://localhost:8080/"
        },
        "id": "Jb5LluITPJg6",
        "outputId": "88b88ba3-2298-4dce-c754-6627b876ae92"
      },
      "execution_count": 5,
      "outputs": [
        {
          "output_type": "stream",
          "name": "stdout",
          "text": [
            "Comenzando el entrenamiento\n",
            "Modelo entrenado 😈\n"
          ]
        }
      ]
    },
    {
      "cell_type": "code",
      "source": [
        "#vamos a gráficar el error\n",
        "import matplotlib.pyplot as plt\n",
        "plt.xlabel('# Pasos')\n",
        "plt.ylabel('magnitud de perdida')\n",
        "plt.plot (historial.history['loss'])"
      ],
      "metadata": {
        "colab": {
          "base_uri": "https://localhost:8080/",
          "height": 466
        },
        "id": "0QkDb_oEPVhM",
        "outputId": "cdfd07f9-c4d2-4a78-c839-281e5a4404e1"
      },
      "execution_count": 7,
      "outputs": [
        {
          "output_type": "execute_result",
          "data": {
            "text/plain": [
              "[<matplotlib.lines.Line2D at 0x7fedd017a5f0>]"
            ]
          },
          "metadata": {},
          "execution_count": 7
        },
        {
          "output_type": "display_data",
          "data": {
            "text/plain": [
              "<Figure size 640x480 with 1 Axes>"
            ],
            "image/png": "[encoded data removed]"
          },
          "metadata": {}
        }
      ]
    },
    {
      "cell_type": "code",
      "source": [
        "#Hacemos una predicción\n",
        "print('Hgamos una predicción')\n",
        "resultado = modelo.predict([100.00])\n",
        "print(f'El resultado es {resultado}' + 'Fahrenheit')"
      ],
      "metadata": {
        "colab": {
          "base_uri": "https://localhost:8080/"
        },
        "id": "y32gwt_hPbPX",
        "outputId": "9f4f76b1-51c5-49d1-d0b6-317d7aa66e35"
      },
      "execution_count": 6,
      "outputs": [
        {
          "output_type": "stream",
          "name": "stdout",
          "text": [
            "Hgamos una predicción\n",
            "1/1 [==============================] - 0s 272ms/step\n",
            "El resultado es [[211.74261]]Fahrenheit\n"
          ]
        }
      ]
    },
    {
      "cell_type": "code",
      "source": [
        "#Variables asignadas\n",
        "print('Variables del modelo')\n",
        "print(capa.get_weights())"
      ],
      "metadata": {
        "colab": {
          "base_uri": "https://localhost:8080/"
        },
        "id": "fbL-wRPhPqFX",
        "outputId": "85b17553-0cf3-423e-c8c7-f70390a9d5cb"
      },
      "execution_count": 8,
      "outputs": [
        {
          "output_type": "stream",
          "name": "stdout",
          "text": [
            "Variables del modelo\n",
            "[array([[1.7982376]], dtype=float32), array([31.918861], dtype=float32)]\n"
          ]
        }
      ]
    }
  ]
}